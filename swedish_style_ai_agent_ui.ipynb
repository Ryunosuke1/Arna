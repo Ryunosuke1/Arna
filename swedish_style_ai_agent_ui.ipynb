{
 "cells": [
  {
   "metadata": {
    "ExecuteTime": {
     "end_time": "2025-03-06T01:25:43.706817Z",
     "start_time": "2025-03-06T01:25:42.978771Z"
    }
   },
   "cell_type": "code",
   "source": "!pip install kivy",
   "id": "e4e3d6046ae2d7b7",
   "outputs": [
    {
     "name": "stdout",
     "output_type": "stream",
     "text": [
      "Requirement already satisfied: kivy in ./.venv/lib/python3.12/site-packages (2.3.1)\r\n",
      "Requirement already satisfied: Kivy-Garden>=0.1.4 in ./.venv/lib/python3.12/site-packages (from kivy) (0.1.5)\r\n",
      "Requirement already satisfied: docutils in ./.venv/lib/python3.12/site-packages (from kivy) (0.21.2)\r\n",
      "Requirement already satisfied: pygments in ./.venv/lib/python3.12/site-packages (from kivy) (2.19.1)\r\n",
      "Requirement already satisfied: requests in ./.venv/lib/python3.12/site-packages (from kivy) (2.32.3)\r\n",
      "Requirement already satisfied: filetype in ./.venv/lib/python3.12/site-packages (from kivy) (1.2.0)\r\n",
      "Requirement already satisfied: charset-normalizer<4,>=2 in ./.venv/lib/python3.12/site-packages (from requests->kivy) (3.4.1)\r\n",
      "Requirement already satisfied: idna<4,>=2.5 in ./.venv/lib/python3.12/site-packages (from requests->kivy) (3.10)\r\n",
      "Requirement already satisfied: urllib3<3,>=1.21.1 in ./.venv/lib/python3.12/site-packages (from requests->kivy) (2.3.0)\r\n",
      "Requirement already satisfied: certifi>=2017.4.17 in ./.venv/lib/python3.12/site-packages (from requests->kivy) (2025.1.31)\r\n",
      "\r\n",
      "\u001B[1m[\u001B[0m\u001B[34;49mnotice\u001B[0m\u001B[1;39;49m]\u001B[0m\u001B[39;49m A new release of pip is available: \u001B[0m\u001B[31;49m23.2.1\u001B[0m\u001B[39;49m -> \u001B[0m\u001B[32;49m25.0.1\u001B[0m\r\n",
      "\u001B[1m[\u001B[0m\u001B[34;49mnotice\u001B[0m\u001B[1;39;49m]\u001B[0m\u001B[39;49m To update, run: \u001B[0m\u001B[32;49mpip install --upgrade pip\u001B[0m\r\n"
     ]
    }
   ],
   "execution_count": 7
  },
  {
   "metadata": {
    "collapsed": true,
    "ExecuteTime": {
     "end_time": "2025-03-06T01:25:43.711840Z",
     "start_time": "2025-03-06T01:25:43.710141Z"
    }
   },
   "cell_type": "code",
   "source": [
    "from kivy.app import App\n",
    "from kivy.uix.boxlayout import BoxLayout\n",
    "from kivy.uix.screenmanager import ScreenManager, Screen\n",
    "from kivy.uix.button import Button\n",
    "from kivy.uix.textinput import TextInput\n",
    "from kivy.uix.label import Label\n",
    "from kivy.core.window import Window\n",
    "from kivy.utils import get_color_from_hex"
   ],
   "id": "initial_id",
   "outputs": [],
   "execution_count": 8
  },
  {
   "metadata": {
    "ExecuteTime": {
     "end_time": "2025-03-06T01:25:43.747172Z",
     "start_time": "2025-03-06T01:25:43.717892Z"
    }
   },
   "cell_type": "code",
   "source": [
    "class SwedishStyleAIAgentApp(App):\n",
    "    def build(self):\n",
    "        # ウィンドウのスタイル設定\n",
    "        Window.clearcolor = get_color_from_hex('#F5F5F5')\n",
    "\n",
    "        # スクリーンマネージャーの設定\n",
    "        sm = ScreenManager()\n",
    "        sm.add_widget(AgentChatScreen(name='chat'))\n",
    "        sm.add_widget(AgentSettingsScreen(name='settings'))\n",
    "\n",
    "        return sm\n",
    "\n",
    "if __name__ == '__main__':\n",
    "    SwedishStyleAIAgentApp().run()"
   ],
   "id": "bc5f8e80ba596668",
   "outputs": [
    {
     "ename": "OSError",
     "evalue": "source code not available",
     "output_type": "error",
     "traceback": [
      "\u001B[31m---------------------------------------------------------------------------\u001B[39m",
      "\u001B[31mOSError\u001B[39m                                   Traceback (most recent call last)",
      "\u001B[36mCell\u001B[39m\u001B[36m \u001B[39m\u001B[32mIn[9]\u001B[39m\u001B[32m, line 14\u001B[39m\n\u001B[32m     11\u001B[39m         \u001B[38;5;28;01mreturn\u001B[39;00m sm\n\u001B[32m     13\u001B[39m \u001B[38;5;28;01mif\u001B[39;00m \u001B[34m__name__\u001B[39m == \u001B[33m'\u001B[39m\u001B[33m__main__\u001B[39m\u001B[33m'\u001B[39m:\n\u001B[32m---> \u001B[39m\u001B[32m14\u001B[39m     \u001B[43mSwedishStyleAIAgentApp\u001B[49m\u001B[43m(\u001B[49m\u001B[43m)\u001B[49m\u001B[43m.\u001B[49m\u001B[43mrun\u001B[49m\u001B[43m(\u001B[49m\u001B[43m)\u001B[49m\n",
      "\u001B[36mFile \u001B[39m\u001B[32m~/Arna/.venv/lib/python3.12/site-packages/kivy/app.py:955\u001B[39m, in \u001B[36mApp.run\u001B[39m\u001B[34m(self)\u001B[39m\n\u001B[32m    952\u001B[39m \u001B[38;5;28;01mdef\u001B[39;00m\u001B[38;5;250m \u001B[39m\u001B[34mrun\u001B[39m(\u001B[38;5;28mself\u001B[39m):\n\u001B[32m    953\u001B[39m \u001B[38;5;250m    \u001B[39m\u001B[33;03m'''Launches the app in standalone mode.\u001B[39;00m\n\u001B[32m    954\u001B[39m \u001B[33;03m    '''\u001B[39;00m\n\u001B[32m--> \u001B[39m\u001B[32m955\u001B[39m     \u001B[38;5;28;43mself\u001B[39;49m\u001B[43m.\u001B[49m\u001B[43m_run_prepare\u001B[49m\u001B[43m(\u001B[49m\u001B[43m)\u001B[49m\n\u001B[32m    956\u001B[39m     runTouchApp()\n\u001B[32m    957\u001B[39m     \u001B[38;5;28mself\u001B[39m._stop()\n",
      "\u001B[36mFile \u001B[39m\u001B[32m~/Arna/.venv/lib/python3.12/site-packages/kivy/app.py:924\u001B[39m, in \u001B[36mApp._run_prepare\u001B[39m\u001B[34m(self)\u001B[39m\n\u001B[32m    922\u001B[39m \u001B[38;5;28;01mif\u001B[39;00m \u001B[38;5;129;01mnot\u001B[39;00m \u001B[38;5;28mself\u001B[39m.built:\n\u001B[32m    923\u001B[39m     \u001B[38;5;28mself\u001B[39m.load_config()\n\u001B[32m--> \u001B[39m\u001B[32m924\u001B[39m     \u001B[38;5;28;43mself\u001B[39;49m\u001B[43m.\u001B[49m\u001B[43mload_kv\u001B[49m\u001B[43m(\u001B[49m\u001B[43mfilename\u001B[49m\u001B[43m=\u001B[49m\u001B[38;5;28;43mself\u001B[39;49m\u001B[43m.\u001B[49m\u001B[43mkv_file\u001B[49m\u001B[43m)\u001B[49m\n\u001B[32m    925\u001B[39m     root = \u001B[38;5;28mself\u001B[39m.build()\n\u001B[32m    926\u001B[39m     \u001B[38;5;28;01mif\u001B[39;00m root:\n",
      "\u001B[36mFile \u001B[39m\u001B[32m~/Arna/.venv/lib/python3.12/site-packages/kivy/app.py:677\u001B[39m, in \u001B[36mApp.load_kv\u001B[39m\u001B[34m(self, filename)\u001B[39m\n\u001B[32m    675\u001B[39m \u001B[38;5;28;01melse\u001B[39;00m:\n\u001B[32m    676\u001B[39m     \u001B[38;5;28;01mtry\u001B[39;00m:\n\u001B[32m--> \u001B[39m\u001B[32m677\u001B[39m         default_kv_directory = dirname(\u001B[43mgetfile\u001B[49m\u001B[43m(\u001B[49m\u001B[38;5;28;43mself\u001B[39;49m\u001B[43m.\u001B[49m\u001B[34;43m__class__\u001B[39;49m\u001B[43m)\u001B[49m)\n\u001B[32m    678\u001B[39m         \u001B[38;5;28;01mif\u001B[39;00m default_kv_directory == \u001B[33m'\u001B[39m\u001B[33m'\u001B[39m:\n\u001B[32m    679\u001B[39m             default_kv_directory = \u001B[33m'\u001B[39m\u001B[33m.\u001B[39m\u001B[33m'\u001B[39m\n",
      "\u001B[36mFile \u001B[39m\u001B[32m/Library/Frameworks/Python.framework/Versions/3.12/lib/python3.12/inspect.py:923\u001B[39m, in \u001B[36mgetfile\u001B[39m\u001B[34m(object)\u001B[39m\n\u001B[32m    921\u001B[39m             \u001B[38;5;28;01mreturn\u001B[39;00m module.\u001B[34m__file__\u001B[39m\n\u001B[32m    922\u001B[39m         \u001B[38;5;28;01mif\u001B[39;00m \u001B[38;5;28mobject\u001B[39m.\u001B[34m__module__\u001B[39m == \u001B[33m'\u001B[39m\u001B[33m__main__\u001B[39m\u001B[33m'\u001B[39m:\n\u001B[32m--> \u001B[39m\u001B[32m923\u001B[39m             \u001B[38;5;28;01mraise\u001B[39;00m \u001B[38;5;167;01mOSError\u001B[39;00m(\u001B[33m'\u001B[39m\u001B[33msource code not available\u001B[39m\u001B[33m'\u001B[39m)\n\u001B[32m    924\u001B[39m     \u001B[38;5;28;01mraise\u001B[39;00m \u001B[38;5;167;01mTypeError\u001B[39;00m(\u001B[33m'\u001B[39m\u001B[38;5;132;01m{!r}\u001B[39;00m\u001B[33m is a built-in class\u001B[39m\u001B[33m'\u001B[39m.format(\u001B[38;5;28mobject\u001B[39m))\n\u001B[32m    925\u001B[39m \u001B[38;5;28;01mif\u001B[39;00m ismethod(\u001B[38;5;28mobject\u001B[39m):\n",
      "\u001B[31mOSError\u001B[39m: source code not available"
     ]
    }
   ],
   "execution_count": 9
  },
  {
   "metadata": {},
   "cell_type": "code",
   "outputs": [],
   "execution_count": null,
   "source": [
    "class AgentChatScreen(Screen):\n",
    "    def __init__(self, **kwargs):\n",
    "        super().__init__(**kwargs)\n",
    "        # スウェーデン風の色彩\n",
    "        self.bg_color = get_color_from_hex('#F5F5F5')  # ライトグレー\n",
    "        self.accent_color = get_color_from_hex('#006AA7')  # スウェーデンブルー\n",
    "\n",
    "        layout = BoxLayout(orientation='vertical', padding=20, spacing=10)\n",
    "\n",
    "        # チャット表示エリア\n",
    "        self.chat_area = TextInput(\n",
    "            multiline=True,\n",
    "            readonly=True,\n",
    "            background_color=self.bg_color,\n",
    "            foreground_color=(0.2, 0.2, 0.2, 1),\n",
    "            size_hint=(1, 0.7)\n",
    "        )\n",
    "\n",
    "        # コントロールエリア\n",
    "        control_layout = BoxLayout(orientation='horizontal', size_hint=(1, 0.1), spacing=10)\n",
    "\n",
    "        self.pause_button = Button(\n",
    "            text='一時停止',\n",
    "            background_color=self.accent_color,\n",
    "            size_hint=(0.3, 1)\n",
    "        )\n",
    "\n",
    "        self.send_button = Button(\n",
    "            text='送信',\n",
    "            background_color=self.accent_color,\n",
    "            size_hint=(0.3, 1)\n",
    "        )\n",
    "\n",
    "        self.message_input = TextInput(\n",
    "            multiline=False,\n",
    "            size_hint=(0.4, 1)\n",
    "        )\n",
    "\n",
    "        control_layout.add_widget(self.pause_button)\n",
    "        control_layout.add_widget(self.message_input)\n",
    "        control_layout.add_widget(self.send_button)\n",
    "\n",
    "        layout.add_widget(self.chat_area)\n",
    "        layout.add_widget(control_layout)\n",
    "        self.add_widget(layout)\n",
    "\n",
    "class AgentSettingsScreen(Screen):\n",
    "    def __init__(self, **kwargs):\n",
    "        super().__init__(**kwargs)\n",
    "        layout = BoxLayout(orientation='vertical', padding=20, spacing=10)\n",
    "\n",
    "        # エージェント設定フォーム\n",
    "        self.agent_settings = []\n",
    "        for i in range(3):  # デフォルトで3つのエージェント設定\n",
    "            agent_layout = BoxLayout(orientation='horizontal', size_hint=(1, 0.15))\n",
    "\n",
    "            agent_layout.add_widget(Label(text=f'Agent {i+1}:', size_hint=(0.2, 1)))\n",
    "            model_input = TextInput(hint_text='モデル名', size_hint=(0.4, 1))\n",
    "            api_input = TextInput(hint_text='API Key', size_hint=(0.4, 1))\n",
    "\n",
    "            agent_layout.add_widget(model_input)\n",
    "            agent_layout.add_widget(api_input)\n",
    "            self.agent_settings.append((model_input, api_input))\n",
    "            layout.add_widget(agent_layout)\n",
    "\n",
    "        self.save_button = Button(\n",
    "            text='設定を保存',\n",
    "            background_color=get_color_from_hex('#006AA7'),\n",
    "            size_hint=(1, 0.1)\n",
    "        )\n",
    "        layout.add_widget(self.save_button)\n",
    "\n",
    "        self.add_widget(layout)"
   ],
   "id": "cd9fda69510084d7"
  }
 ],
 "metadata": {
  "kernelspec": {
   "display_name": "Python 3",
   "language": "python",
   "name": "python3"
  },
  "language_info": {
   "codemirror_mode": {
    "name": "ipython",
    "version": 2
   },
   "file_extension": ".py",
   "mimetype": "text/x-python",
   "name": "python",
   "nbconvert_exporter": "python",
   "pygments_lexer": "ipython2",
   "version": "2.7.6"
  }
 },
 "nbformat": 4,
 "nbformat_minor": 5
}
